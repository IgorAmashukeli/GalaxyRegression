{
 "cells": [
  {
   "cell_type": "code",
   "execution_count": null,
   "metadata": {
    "id": "-wHfRMAR5pBL"
   },
   "outputs": [],
   "source": [
    "import matplotlib.pyplot as plt\n",
    "from matplotlib import pyplot\n",
    "import numpy as np\n",
    "import seaborn as sns\n",
    "import pandas as pd\n",
    "import tensorflow.compat.v2 as tf\n",
    "import tensorflow_probability as tfp\n",
    "from sklearn import preprocessing\n",
    "from sklearn.linear_model import LinearRegression\n",
    "from google.colab import drive\n",
    "from sklearn.model_selection import train_test_split\n",
    "from sklearn.metrics import max_error, mean_squared_error, explained_variance_score, mean_absolute_error, mean_squared_log_error, median_absolute_error, r2_score, mean_poisson_deviance, mean_gamma_deviance\n",
    "from sklearn.ensemble import RandomForestRegressor\n",
    "from tqdm import tqdm_notebook\n",
    "from xgboost import XGBRegressor\n",
    "from sklearn.preprocessing import PolynomialFeatures\n",
    "from hyperopt import hp, fmin, STATUS_OK, tpe, Trials"
   ]
  },
  {
   "cell_type": "code",
   "execution_count": null,
   "metadata": {
    "id": "vP2ugh7w5ytv"
   },
   "outputs": [],
   "source": [
    "def set_settings():\n",
    "    tf.enable_v2_behavior()\n",
    "    sns.reset_defaults()\n",
    "    sns.set_context(context='talk',font_scale=0.7)\n",
    "    tfd = tfp.distributions"
   ]
  },
  {
   "cell_type": "code",
   "execution_count": null,
   "metadata": {
    "id": "lKh6l2e-ZZkC"
   },
   "outputs": [],
   "source": [
    "def mount():\n",
    "    drive.mount('/content/drive')"
   ]
  },
  {
   "cell_type": "code",
   "execution_count": null,
   "metadata": {
    "id": "x21kikCP-23q"
   },
   "outputs": [],
   "source": [
    "def check_gpu_device():\n",
    "    if tf.test.gpu_device_name() != '/device:GPU:0':\n",
    "        print('WARNING: GPU device not found.')\n",
    "    else:\n",
    "        print('SUCCESS: Found GPU: {}'.format(tf.test.gpu_device_name()))"
   ]
  },
  {
   "cell_type": "code",
   "execution_count": null,
   "metadata": {
    "id": "EQpVKt_s_t9m"
   },
   "outputs": [],
   "source": [
    "def prepare():\n",
    "    set_settings()\n",
    "    mount()\n",
    "    check_gpu_device()"
   ]
  },
  {
   "cell_type": "code",
   "execution_count": null,
   "metadata": {
    "id": "nNtkZ6CI0uVW"
   },
   "outputs": [],
   "source": [
    "def load():\n",
    "    data = pd.read_csv('drive/MyDrive/rcsed_z_less_03.csv')\n",
    "    masses = pd.read_csv('drive/MyDrive/rcsed_z_less_03_logMstar_gal.csv')\n",
    "    return data, masses"
   ]
  },
  {
   "cell_type": "code",
   "execution_count": null,
   "metadata": {
    "id": "FUIVqM6v0w4N"
   },
   "outputs": [],
   "source": [
    "def prepare_data(data, masses):\n",
    "    mask = ~masses['logMstar_gal'].isna()\n",
    "    y = masses[mask]\n",
    "    y = y.reset_index()\n",
    "    y = y.drop(columns=['index'])\n",
    "    data = data.drop(columns=['Unnamed: 0'])\n",
    "    X = data[mask]\n",
    "    X = X.reset_index()\n",
    "    X = X.drop(columns=['index'])\n",
    "    X = X.fillna(X.mean())\n",
    "    data['g_r'] = (data['g'] + data['kcorr_g']) - (data['r'] + data['kcorr_r'])\n",
    "    X['g_r'] = (X['g'] + X['kcorr_g']) - (X['r'] + X['kcorr_r'])\n",
    "    return data, X, y, mask"
   ]
  },
  {
   "cell_type": "code",
   "execution_count": null,
   "metadata": {
    "id": "Yq_LeW4z0zNC"
   },
   "outputs": [],
   "source": [
    "def split_data(X, y):\n",
    "    X_train, X_test, y_train, y_test = train_test_split(X, y, test_size=0.1, random_state=42)\n",
    "    return X_train, X_test, y_train, y_test"
   ]
  },
  {
   "cell_type": "code",
   "execution_count": null,
   "metadata": {
    "id": "778wOSJN01mt"
   },
   "outputs": [],
   "source": [
    "def scale_data(X_train, X_test):\n",
    "    scal = preprocessing.RobustScaler()\n",
    "    X_train = scal.fit_transform(X_train)\n",
    "    X_test = scal.transform(X_test)\n",
    "    return X_train, X_test"
   ]
  },
  {
   "cell_type": "code",
   "execution_count": null,
   "metadata": {
    "id": "7R9uxPl01R_i"
   },
   "outputs": [],
   "source": [
    "def posterior_mean_field(kernel_size, bias_size=0, dtype=None):\n",
    "  n = kernel_size + bias_size\n",
    "  c = np.log(np.expm1(1.))\n",
    "  return tf.keras.Sequential([\n",
    "      tfp.layers.VariableLayer(2 * n, dtype=dtype),\n",
    "      tfp.layers.DistributionLambda(lambda t: tfd.Independent(\n",
    "          tfd.Normal(loc=t[..., :n],\n",
    "                     scale=1e-5 + tf.nn.softplus(c + t[..., n:])),\n",
    "          reinterpreted_batch_ndims=1)),\n",
    "  ])\n",
    "\n",
    "\n",
    "def prior_trainable(kernel_size, bias_size=0, dtype=None):\n",
    "  n = kernel_size + bias_size\n",
    "  return tf.keras.Sequential([\n",
    "      tfp.layers.VariableLayer(n, dtype=dtype),\n",
    "      tfp.layers.DistributionLambda(lambda t: tfd.Independent(\n",
    "          tfd.Normal(loc=t, scale=1),\n",
    "          reinterpreted_batch_ndims=1)),\n",
    "  ])"
   ]
  },
  {
   "cell_type": "code",
   "execution_count": null,
   "metadata": {
    "id": "ebc6E-vG1X95"
   },
   "outputs": [],
   "source": [
    "class RBFKernelFn(tf.keras.layers.Layer):\n",
    "  def __init__(self, **kwargs):\n",
    "    super(RBFKernelFn, self).__init__(**kwargs)\n",
    "    dtype = kwargs.get('dtype', None)\n",
    "\n",
    "    self._amplitude = self.add_variable(\n",
    "            initializer=tf.constant_initializer(0),\n",
    "            dtype=dtype,\n",
    "            name='amplitude')\n",
    "\n",
    "    self._length_scale = self.add_variable(\n",
    "            initializer=tf.constant_initializer(0),\n",
    "            dtype=dtype,\n",
    "            name='length_scale')\n",
    "\n",
    "  def call(self, x):\n",
    "    # Never called -- this is just a layer so it can hold variables\n",
    "    # in a way Keras understands.\n",
    "    return x\n",
    "\n",
    "  @property\n",
    "  def kernel(self):\n",
    "    return tfp.math.psd_kernels.ExponentiatedQuadratic(\n",
    "      amplitude=tf.nn.softplus(0.1 * self._amplitude),\n",
    "      length_scale=tf.nn.softplus(5. * self._length_scale)\n",
    "    )"
   ]
  },
  {
   "cell_type": "code",
   "execution_count": null,
   "metadata": {
    "id": "iyGcHVZ01dwO"
   },
   "outputs": [],
   "source": [
    "def var_model(X_train, y_train):\n",
    "    tf.keras.backend.set_floatx('float64')\n",
    "# Build model.\n",
    "    num_inducing_points = 100\n",
    "    simple_model = tf.keras.Sequential([\n",
    "        tf.keras.layers.InputLayer(input_shape=[56]),\n",
    "        tf.keras.layers.Dense(256, kernel_initializer='ones', use_bias=False, activation='relu'),\n",
    "        #tf.keras.layers.Activation('softmax'),\n",
    "\n",
    "        tfp.layers.VariationalGaussianProcess(\n",
    "            num_inducing_points=num_inducing_points,\n",
    "            kernel_provider=RBFKernelFn(),\n",
    "            event_shape=[1],\n",
    "            unconstrained_observation_noise_variance_initializer=(\n",
    "                tf.constant_initializer(np.log(np.expm1(1.)).astype('float64'))),\n",
    "        ),\n",
    "    ])\n",
    "    batch_size = 256\n",
    "    loss = lambda y, rv_y: rv_y.variational_loss(\n",
    "        y, kl_weight=np.array(batch_size, 'float64') / X.shape[0])\n",
    "    simple_model.compile(optimizer=tf.optimizers.Adam(learning_rate=0.008), loss=loss)\n",
    "\n",
    "    history = simple_model.fit(X_train, y_train, batch_size=batch_size, epochs=77, verbose=2)\n",
    "    return simple_model, history"
   ]
  },
  {
   "cell_type": "code",
   "execution_count": null,
   "metadata": {
    "id": "y6jaNV2Suq75"
   },
   "outputs": [],
   "source": [
    "class EnumHyper:\n",
    "\n",
    "    def __init__(self, estimator_func, X_train, X_test, y_train, y_test, size, random_st, params_strs, types, low, high):\n",
    "        self.X_train, self.X_valid, self.y_train, self.y_valid = train_test_split(X_train, y_train, test_size=size, random_state=random_st)\n",
    "        self.X_test = X_test\n",
    "        self.y_test = y_test\n",
    "        self.estimator_func = estimator_func\n",
    "        self.params_strs = params_strs.copy()\n",
    "        self.low = low.copy()\n",
    "        self.high = high.copy()\n",
    "        self.m = self.params_strs.shape[0]\n",
    "        self.types = types\n",
    "\n",
    "\n",
    "    def fn(self, params):\n",
    "        for key in params:\n",
    "            params[key] = self.types(params[key])\n",
    "        est = self.estimator_func(**params)\n",
    "        y_pred = est.fit(self.X_train, self.y_train).predict(self.X_valid)\n",
    "        loss = 1 - r2_score(self.y_valid, y_pred)\n",
    "        return {'loss' : loss, 'status' : STATUS_OK}\n",
    "\n",
    "\n",
    "    def find_pars(self):\n",
    "        space = {}\n",
    "        for i in range(self.m):\n",
    "            space[self.params_strs[i]] = hp.uniform(label = self.params_strs[i], low = self.low[i], high = self.high[i])\n",
    "        best_params = fmin(fn=self.fn, space=space, algo=tpe.suggest, max_evals=50, verbose=False)\n",
    "        return best_params\n",
    "\n",
    "\n",
    "    def evaluate(self, best_params):\n",
    "        for key in best_params:\n",
    "            best_params[key] = self.types(best_params[key])\n",
    "        est = self.estimator_func(**best_params)\n",
    "        est.fit(self.X_train, self.y_train)\n",
    "        y_pred_train = est.predict(self.X_train)\n",
    "        y_pred_test = est.predict(self.X_test)\n",
    "        sc_train = r2_score(self.y_test, y_pred_train)\n",
    "        sc_test = r2_score(self.y_test, y_pred_test)\n",
    "        return est, sc_train, sc_test\n",
    "\n",
    "    def enum(self):\n",
    "        best_params = self.find_pars()\n",
    "        est, sc_train, sc_test = self.evaluate(best_params)\n",
    "        return est, sc_train, sc_test"
   ]
  },
  {
   "cell_type": "code",
   "execution_count": null,
   "metadata": {
    "id": "ATmWexK439uq"
   },
   "outputs": [],
   "source": [
    "def randForest_model(X_train, y_train):\n",
    "    estimators = [150, 200]\n",
    "    min_spl = [4, 5, 6]\n",
    "    best_sc_first = 0\n",
    "    best_est = 0\n",
    "    for est in tqdm_notebook(estimators):\n",
    "        rgr = RandomForestRegressor(n_estimators=est)\n",
    "        rgr.fit(X_train, y_train)\n",
    "        y_pred = rgr.predict(X_test)\n",
    "        sc = r2_score(y_pred, y_test)\n",
    "        if sc > best_sc_first:\n",
    "            best_sc_first = sc\n",
    "            best_est = est\n",
    "\n",
    "\n",
    "    result_est = None\n",
    "    best_sc_second = 0\n",
    "    best_pred = None\n",
    "    best_min = 0\n",
    "    for cur_min in tqdm_notebook(min_spl):\n",
    "        rgr = RandomForestRegressor(n_estimators=best_est, min_samples_split=cur_min)\n",
    "        rgr.fit(X_train, y_train)\n",
    "        y_pred = rgr.predict(X_test)\n",
    "        sc = r2_score(y_pred, y_test)\n",
    "        if sc > best_sc_second:\n",
    "            best_sc_second = sc\n",
    "            best_min = cur_min\n",
    "            result_est = rgr\n",
    "            best_pred = y_pred\n",
    "\n",
    "    return result_est"
   ]
  },
  {
   "cell_type": "code",
   "execution_count": null,
   "metadata": {
    "id": "YmwltUGCuT68"
   },
   "outputs": [],
   "source": [
    "def randForest_model2(X_train, y_train):\n",
    "    rgr = RandomForestRegressor()\n",
    "    rgr.fit(X_train, y_train)\n",
    "    return rgr"
   ]
  },
  {
   "cell_type": "code",
   "execution_count": null,
   "metadata": {
    "id": "TxcBNU53us_G"
   },
   "outputs": [],
   "source": [
    "def randForest_model3(X_train, y_train, X_test, y_test):\n",
    "    enhp = EnumHyper(RandomForestRegressor, X_train, X_test, y_train, y_test, 0.33, 42, np.array(['n_estimators', 'min_samples_split']), int, [50, 4], [200, 10])\n",
    "    est, sc_train, sc_test = enhp.enum()\n",
    "    return est, sc_train, sc_test"
   ]
  },
  {
   "cell_type": "code",
   "execution_count": null,
   "metadata": {
    "id": "B653MMOX--eM"
   },
   "outputs": [],
   "source": [
    "def lin_reg(X_train, y_train):\n",
    "    rgr = LinearRegression()\n",
    "    rgr.fit(X_train, y_train)\n",
    "    return rgr"
   ]
  },
  {
   "cell_type": "code",
   "execution_count": null,
   "metadata": {
    "id": "t6BU80VWlUry"
   },
   "outputs": [],
   "source": [
    "def boosting_model(X_train, X_test, y_train, y_test):\n",
    "    estimators = [50, 100, 150, 200]\n",
    "    lr = [0.001, 0.01, 0.1, 0.2, 0.3]\n",
    "    best_sc_first = 0\n",
    "    best_est = 0\n",
    "    for est in tqdm_notebook(estimators):\n",
    "        rgr = XGBRegressor(n_estimators=est)\n",
    "        rgr.fit(X_train, y_train)\n",
    "        y_pred = rgr.predict(X_test)\n",
    "        sc = r2_score(y_pred, y_test)\n",
    "        if sc > best_sc_first:\n",
    "            best_sc_first = sc\n",
    "            best_est = est\n",
    "\n",
    "\n",
    "    result_est = None\n",
    "    best_sc_second = 0\n",
    "    best_pred = None\n",
    "    best_lr = 0\n",
    "    for cur_lr in tqdm_notebook(lr):\n",
    "        rgr = XGBRegressor(n_estimators=best_est, learning_rate=cur_lr)\n",
    "        rgr.fit(X_train, y_train)\n",
    "        y_pred = rgr.predict(X_test)\n",
    "        sc = r2_score(y_pred, y_test)\n",
    "        if sc > best_sc_second:\n",
    "            best_sc_second = sc\n",
    "            best_lr = cur_lr\n",
    "            result_est = rgr\n",
    "            best_pred = y_pred\n",
    "    return result_est"
   ]
  },
  {
   "cell_type": "code",
   "execution_count": null,
   "metadata": {
    "id": "QaLu40WF2c1L"
   },
   "outputs": [],
   "source": [
    "def make_predictions(model, X_train, X_test):\n",
    "    y_pred_train = model.predict(X_train)\n",
    "    y_pred_test = model.predict(X_test)\n",
    "    return y_pred_train, y_pred_test"
   ]
  },
  {
   "cell_type": "code",
   "execution_count": null,
   "metadata": {
    "id": "ZxaTXNpq30dt"
   },
   "outputs": [],
   "source": [
    "def print_score(y, y_pred):\n",
    "    print('max_error:',max_error(y, y_pred))\n",
    "    print('mean_squared_error:',mean_squared_error(y, y_pred))\n",
    "    print('explained_variance_score:', explained_variance_score(y, y_pred))\n",
    "    print('mean_absolute_error:', mean_absolute_error(y, y_pred))\n",
    "    print('mean_squared_log_error:', mean_squared_log_error(y, y_pred))\n",
    "    print('median_absolute_error:', median_absolute_error(y, y_pred))\n",
    "    print('r2_score:', r2_score(y, y_pred))\n",
    "    print('mean_poisson_deviance:', mean_poisson_deviance(y, y_pred))\n",
    "    print('mean_gamma_deviance:', mean_gamma_deviance(y, y_pred))\n",
    "    return r2_score(y, y_pred)"
   ]
  },
  {
   "cell_type": "code",
   "execution_count": null,
   "metadata": {
    "id": "c2NeyxAUU8_Z"
   },
   "outputs": [],
   "source": [
    "def scores(model, X_train, X_test, y_train, y_test):\n",
    "    y_pred_train, y_pred_test = make_predictions(model, X_train, X_test)\n",
    "    r2_train = print_score(y_train, y_pred_train)\n",
    "    r2_test = print_score(y_test, y_pred_test)\n",
    "    return r2_train, r2_test"
   ]
  },
  {
   "cell_type": "code",
   "execution_count": null,
   "metadata": {
    "id": "qBWnAC0r6YfG"
   },
   "outputs": [],
   "source": [
    "def feature_importance(model):\n",
    "    importance = model.feature_importances_\n",
    "    importance2 = list(filter(lambda x: x > 0.0045, importance))\n",
    "    # summarize feature importance\n",
    "    massiv = X.columns\n",
    "    massiv2 = []\n",
    "    i = 0\n",
    "    for v in range(len(importance)):\n",
    "      if v == 52:\n",
    "        break\n",
    "      if importance[v] == importance2[i]:\n",
    "        print('Column: %s, Feature: %0d,  Score: %.5f' % (massiv[v], v, importance2[i]))\n",
    "        massiv2.append(massiv[v])\n",
    "        i += 1\n",
    "\n",
    "    # plot feature importance\n",
    "    pyplot.bar(massiv2, importance2)\n",
    "    pyplot.xticks(rotation=90)\n",
    "    pyplot.show()\n",
    "    return massiv2"
   ]
  },
  {
   "cell_type": "code",
   "execution_count": null,
   "metadata": {
    "id": "6LUda92a6q5V"
   },
   "outputs": [],
   "source": [
    "def get_masses_for_unlabeled(model, data, mask):\n",
    "    other_mask = 1 -  mask\n",
    "    other_mask = other_mask.astype('bool')\n",
    "    X_other = data[other_mask]\n",
    "    X_other = X_other.reset_index()\n",
    "    X_other = X_other.drop(columns=['index'])\n",
    "    X_other = X_other.fillna(X_other.mean())\n",
    "    res = model.predict(X_other)\n",
    "    inds = np.arange(len(data))\n",
    "    inds = inds[other_mask]\n",
    "    my_masses = {'inds': inds, 'masses' : res}\n",
    "    #df = pd.DataFrame(my_masses)\n",
    "    return res"
   ]
  },
  {
   "cell_type": "code",
   "execution_count": null,
   "metadata": {
    "id": "Lg9xZt-gm3Mc"
   },
   "outputs": [],
   "source": [
    "def draw(model):\n",
    "    yhat = model.predict(X_test)\n",
    "    plt.figure(figsize=[15, 10])  # inches\n",
    "    plt.plot(X, y, 'b.', label='observed', markersize=2);\n",
    "\n",
    "    m = yhat.mean()\n",
    "    s = np.std(yhat)\n",
    "\n",
    "    plt.plot(X_test, yhat, 'r', linewidth=0.1, label='mean');\n",
    "    plt.plot(X_test, yhat + 2 * s, 'g', linewidth=0.1, label=r'mean + 2 stddev');\n",
    "    plt.plot(X_test, yhat - 2 * s, 'g', linewidth=0.1, label=r'mean - 2 stddev');\n",
    "\n",
    "\n",
    "\n",
    "    ax=plt.gca();\n",
    "    ax.xaxis.set_ticks_position('bottom')\n",
    "    ax.yaxis.set_ticks_position('left')\n",
    "    ax.spines['left'].set_position(('data', 0))\n",
    "    ax.spines['top'].set_visible(False)\n",
    "    ax.spines['right'].set_visible(False)\n",
    "    #ax.spines['left'].set_smart_bounds(True)\n",
    "    #ax.spines['bottom'].set_smart_bounds(True)\n",
    "    plt.legend(loc='center left', fancybox=True, framealpha=0., bbox_to_anchor=(1.05, 0.5), fontsize=5)\n",
    "    plt.show()"
   ]
  },
  {
   "cell_type": "code",
   "execution_count": null,
   "metadata": {
    "id": "Vzoc1KmgrdYX"
   },
   "outputs": [],
   "source": [
    "def make_all_hist(model, y_train, y_test, data, mask):\n",
    "    others_y = get_masses_for_unlabeled(model, data, mask)\n",
    "    sns.distplot(y_train, label='y_train')\n",
    "    sns.distplot(y_test, label='y_test')\n",
    "    sns.distplot(others_y, label='predicted_masses')\n",
    "    plt.legend(loc='upper left')\n",
    "    plt.show()"
   ]
  },
  {
   "cell_type": "code",
   "execution_count": null,
   "metadata": {
    "id": "4KyPG-Zz7S-L"
   },
   "outputs": [],
   "source": [
    "def save_csv(df):\n",
    "    compression_opts = dict(method='zip',\n",
    "                        archive_name='out.csv')\n",
    "\n",
    "    df.to_csv('out.zip', index=False,\n",
    "          compression=compression_opts)"
   ]
  },
  {
   "cell_type": "code",
   "execution_count": null,
   "metadata": {
    "colab": {
     "base_uri": "https://localhost:8080/"
    },
    "id": "X24OUht1AKRT",
    "outputId": "b74ca17c-804a-4b19-8e41-d8253a5a11ec"
   },
   "outputs": [],
   "source": [
    "prepare()"
   ]
  },
  {
   "cell_type": "code",
   "execution_count": null,
   "metadata": {
    "id": "BGuUBXzDDKuj"
   },
   "outputs": [],
   "source": [
    "data, masses = load()"
   ]
  },
  {
   "cell_type": "code",
   "execution_count": null,
   "metadata": {
    "colab": {
     "base_uri": "https://localhost:8080/",
     "height": 456
    },
    "id": "fXQ2yj_MiVV4",
    "outputId": "7cf011f6-d22c-458c-e381-78428557d999"
   },
   "outputs": [],
   "source": [
    "data"
   ]
  },
  {
   "cell_type": "code",
   "execution_count": null,
   "metadata": {
    "id": "obAn_fzEGTVU"
   },
   "outputs": [],
   "source": [
    "data, X, y, mask = prepare_data(data, masses)"
   ]
  },
  {
   "cell_type": "code",
   "execution_count": null,
   "metadata": {
    "id": "BLLXYbra-hvF"
   },
   "outputs": [],
   "source": [
    "X_train, X_test, y_train, y_test = split_data(X, y)"
   ]
  },
  {
   "cell_type": "code",
   "execution_count": null,
   "metadata": {
    "id": "gThwSHaSR56L"
   },
   "outputs": [],
   "source": [
    "X_train, X_test = scale_data(X_train, X_test)"
   ]
  },
  {
   "cell_type": "code",
   "execution_count": null,
   "metadata": {
    "id": "9KDN7dibHg_E"
   },
   "outputs": [],
   "source": [
    "negloglik = lambda y, p_y: -p_y.log_prob(y)"
   ]
  },
  {
   "cell_type": "markdown",
   "metadata": {
    "id": "2cnk6_kRMNrS"
   },
   "source": [
    "**Model 1(tf probability)**"
   ]
  },
  {
   "cell_type": "code",
   "execution_count": null,
   "metadata": {
    "colab": {
     "base_uri": "https://localhost:8080/"
    },
    "id": "ytToILhhakHu",
    "outputId": "d2919ab2-4720-4fb2-c547-7ddaf3c30331"
   },
   "outputs": [],
   "source": [
    "var_model, history = var_model(X_train, y_train)"
   ]
  },
  {
   "cell_type": "code",
   "execution_count": null,
   "metadata": {
    "colab": {
     "base_uri": "https://localhost:8080/"
    },
    "id": "NYD_rKQxMbnH",
    "outputId": "722d796b-73e8-47d1-dfde-a8303b4c3708"
   },
   "outputs": [],
   "source": [
    "simple_model_train_r2, simple_model_test_r2 = scores(var_model, X_train, X_test, y_train, y_test)"
   ]
  },
  {
   "cell_type": "markdown",
   "metadata": {
    "id": "5C0V1x2xMS5Q"
   },
   "source": [
    "**Model 2(RandForest)**"
   ]
  },
  {
   "cell_type": "code",
   "execution_count": null,
   "metadata": {
    "colab": {
     "base_uri": "https://localhost:8080/"
    },
    "id": "wAMSZxYm9C5o",
    "outputId": "9f4d9c50-b639-44e3-ae4f-4227f31f0539"
   },
   "outputs": [],
   "source": [
    "random_forest_model = randForest_model2(X_train, y_train)"
   ]
  },
  {
   "cell_type": "code",
   "execution_count": null,
   "metadata": {
    "colab": {
     "base_uri": "https://localhost:8080/"
    },
    "id": "LZdyRTq8bOHg",
    "outputId": "e38a30bd-5fc6-4714-8009-d6eb8fa9e744"
   },
   "outputs": [],
   "source": [
    "random_forest_model_train_r2, random_forest_model_test_r2 = scores(random_forest_model, X_train, X_test, y_train, y_test)"
   ]
  },
  {
   "cell_type": "markdown",
   "metadata": {
    "id": "utzcCuFhMmkn"
   },
   "source": [
    "**Model 3(Xgboost)**"
   ]
  },
  {
   "cell_type": "code",
   "execution_count": null,
   "metadata": {
    "colab": {
     "base_uri": "https://localhost:8080/",
     "height": 353,
     "referenced_widgets": [
      "d54d0174fa1249108165001e7573bf34",
      "d6a97d8fa65041e1891de9eb594c3267",
      "4cca525a5ff94db49c1051cdc61a6990",
      "1fd91a3e74ca44948f68284ef959a59e",
      "b991306a3792401bab38f9e21bfaecd2",
      "70137d5ad09f43ed8d24ace511fd07a5",
      "c043f24ecf7f46c0a3d43308ca3fefab",
      "80b7c3642a234947b16d64ce154a5c23",
      "9894bc916f374784b12fb48718b2a063",
      "6c29b1888fb5493d9fe51e2e72f80f62",
      "c6c660270c7c46ae886f5f48e25830e6",
      "ad381cf003954fd5ad809260c9888642",
      "43a19345ff8c468e9186157b9bf18371",
      "ade8d5d4fa9e4753a8a840e1502136ef",
      "849c6812a9e446d9b084eb34a4bed927",
      "babd9ffcc26848d19ba7964db19f2b7d"
     ]
    },
    "id": "W9e_l9gHlahS",
    "outputId": "e98d91e1-f019-4867-9025-a9d23c6dc08a"
   },
   "outputs": [],
   "source": [
    "boost_model = boosting_model(X_train, X_test, y_train, y_test)"
   ]
  },
  {
   "cell_type": "code",
   "execution_count": null,
   "metadata": {
    "colab": {
     "base_uri": "https://localhost:8080/"
    },
    "id": "LgAIuMe9lnc5",
    "outputId": "12f69667-93a7-4584-f54e-4502826cf43c"
   },
   "outputs": [],
   "source": [
    "boost_model_train_r2, boost_model_test_r2 = scores(boost_model, X_train, X_test, y_train, y_test)"
   ]
  },
  {
   "cell_type": "markdown",
   "metadata": {
    "id": "f0QZ2Zqk_UEI"
   },
   "source": [
    "**Model 4(LinearRegression)**"
   ]
  },
  {
   "cell_type": "code",
   "execution_count": null,
   "metadata": {
    "id": "YNFONntR_ToL"
   },
   "outputs": [],
   "source": [
    "lin_reg_model = lin_reg(X_train, y_train)"
   ]
  },
  {
   "cell_type": "code",
   "execution_count": null,
   "metadata": {
    "colab": {
     "base_uri": "https://localhost:8080/"
    },
    "id": "ntzWd8WT_SzX",
    "outputId": "6791affa-0952-42b3-806e-dbe935057555"
   },
   "outputs": [],
   "source": [
    "lin_reg_model_train_r2, lin_reg_model_test_r2 = scores(lin_reg_model, X_train, X_test, y_train, y_test)"
   ]
  },
  {
   "cell_type": "markdown",
   "metadata": {
    "id": "J57XsxtzBAwI"
   },
   "source": [
    "**Correlation**"
   ]
  },
  {
   "cell_type": "code",
   "execution_count": null,
   "metadata": {
    "colab": {
     "base_uri": "https://localhost:8080/",
     "height": 494
    },
    "id": "HEyVUzZyBEZs",
    "outputId": "c1c58df8-e986-4916-b896-ce3eb9b6cca7"
   },
   "outputs": [],
   "source": [
    "sns.heatmap(data.corr())\n",
    "plt.show()"
   ]
  },
  {
   "cell_type": "markdown",
   "metadata": {
    "id": "2qk1iAnKMicP"
   },
   "source": [
    "**Feature importance**"
   ]
  },
  {
   "cell_type": "code",
   "execution_count": null,
   "metadata": {
    "colab": {
     "base_uri": "https://localhost:8080/",
     "height": 685
    },
    "id": "kogL2jANMrap",
    "outputId": "1fffbfaf-5e14-4da3-ea1b-15ec9e8d0dff"
   },
   "outputs": [],
   "source": [
    "most_important_features = feature_importance(random_forest_model)"
   ]
  },
  {
   "cell_type": "markdown",
   "metadata": {
    "id": "n0Yqm3L-mlgM"
   },
   "source": [
    "**Сomparison of three models**"
   ]
  },
  {
   "cell_type": "code",
   "execution_count": null,
   "metadata": {
    "colab": {
     "base_uri": "https://localhost:8080/",
     "height": 142
    },
    "id": "XXRha6z2du3e",
    "outputId": "ad7e47b9-43fa-4300-96af-485bdf6ec859"
   },
   "outputs": [],
   "source": [
    "#table\n",
    "res_table = {'names' : ['variational layer model', 'random forest model', 'boosting model'], 'train' : [simple_model_train_r2, random_forest_model_train_r2, boost_model_train_r2], 'test' : [simple_model_test_r2, random_forest_model_test_r2, boost_model_test_r2]}\n",
    "res_table = pd.DataFrame(res_table)\n",
    "res_table"
   ]
  },
  {
   "cell_type": "markdown",
   "metadata": {
    "id": "5N47lZSgrpNE"
   },
   "source": [
    "**Masses hist**"
   ]
  },
  {
   "cell_type": "code",
   "execution_count": null,
   "metadata": {
    "colab": {
     "base_uri": "https://localhost:8080/",
     "height": 567
    },
    "id": "YxU0Yoo2rlyF",
    "outputId": "28d0d351-ffc3-44be-c8bb-f3d68916a25d"
   },
   "outputs": [],
   "source": [
    "make_all_hist(random_forest_model, y_train, y_test, data, mask)"
   ]
  },
  {
   "cell_type": "code",
   "execution_count": null,
   "metadata": {
    "id": "g7kVTRTKP7V8"
   },
   "outputs": [],
   "source": []
  },
  {
   "cell_type": "code",
   "execution_count": null,
   "metadata": {
    "id": "rmpgHKv0Jg6h"
   },
   "outputs": [],
   "source": [
    "other_mask = 1 -  mask\n",
    "other_mask = other_mask.astype('bool')\n",
    "X_other = data[other_mask]\n",
    "X_other = X_other.reset_index()\n",
    "X_other = X_other.drop(columns=['index'])\n",
    "X_other = X_other.fillna(X_other.mean())"
   ]
  },
  {
   "cell_type": "code",
   "execution_count": null,
   "metadata": {
    "colab": {
     "base_uri": "https://localhost:8080/",
     "height": 584
    },
    "id": "SIUNmcOAGEuc",
    "outputId": "e7d4d2e2-7f5a-4ca4-909a-e8e6d39f6aeb"
   },
   "outputs": [],
   "source": [
    "sns.distplot(X_other['redshift'], label='pred', hist=False)\n",
    "sns.distplot(X_train['redshift'], label='train',hist=False)\n",
    "sns.distplot(X_test['redshift'], label='test', hist=False)\n",
    "plt.legend(loc='upper left')\n",
    "plt.show()"
   ]
  },
  {
   "cell_type": "code",
   "execution_count": null,
   "metadata": {
    "id": "Mox1SBkJIu-J"
   },
   "outputs": [],
   "source": [
    "plt.plot(x, y, '-ok');"
   ]
  },
  {
   "cell_type": "markdown",
   "metadata": {
    "id": "rybpUx6twklc"
   },
   "source": [
    "**Add new features made of important features + new regression**"
   ]
  },
  {
   "cell_type": "code",
   "execution_count": null,
   "metadata": {
    "colab": {
     "base_uri": "https://localhost:8080/",
     "height": 407
    },
    "id": "8E1BdDxuwxrs",
    "outputId": "da71a45f-d86a-4fd6-cb16-0190a30275c6"
   },
   "outputs": [],
   "source": [
    "#most_important_features - names of important features\n",
    "new_data = pd.DataFrame()\n",
    "for i in data.columns:\n",
    "  if i in most_important_features:\n",
    "    new_data[i] = data[i]\n",
    "new_data"
   ]
  },
  {
   "cell_type": "code",
   "execution_count": null,
   "metadata": {
    "id": "NhfiK81N7r_8"
   },
   "outputs": [],
   "source": [
    "poly = PolynomialFeatures(2)"
   ]
  },
  {
   "cell_type": "code",
   "execution_count": null,
   "metadata": {
    "id": "9UjooTMawj5I"
   },
   "outputs": [],
   "source": [
    "mask = ~masses['logMstar_gal'].isna()\n",
    "new_y = masses[mask]\n",
    "new_y = new_y.reset_index()\n",
    "new_y = new_y.drop(columns=['index'])\n",
    "new_X = new_data[mask]\n",
    "new_X = new_X.reset_index()\n",
    "new_X = new_X.drop(columns=['index'])\n",
    "new_X = new_X.fillna(new_X.mean())"
   ]
  },
  {
   "cell_type": "code",
   "execution_count": null,
   "metadata": {
    "id": "UsNbSnT17vWY"
   },
   "outputs": [],
   "source": [
    "new_X_transf = poly.fit_transform(new_X)"
   ]
  },
  {
   "cell_type": "code",
   "execution_count": null,
   "metadata": {
    "id": "zF36e6xA_zBo"
   },
   "outputs": [],
   "source": [
    "X_train_new, X_test_new, y_train_new, y_test_new = split_data(new_X_transf, new_y)"
   ]
  },
  {
   "cell_type": "code",
   "execution_count": null,
   "metadata": {
    "id": "pT1VPjZcAk8z"
   },
   "outputs": [],
   "source": [
    "X_train_new, X_test_new = scale_data(X_train_new, X_test_new)"
   ]
  },
  {
   "cell_type": "code",
   "execution_count": null,
   "metadata": {
    "colab": {
     "base_uri": "https://localhost:8080/",
     "height": 372,
     "referenced_widgets": [
      "6a67d5d98e4043549b5e6c9df01ebb48",
      "21d5b8ed96b643b88c20111bd1fb7091",
      "7eeba1d9299d4d769f6ec75c29495416",
      "774973ac679d47ccbc9698e43e66c40d",
      "4c9275c833b8410a8eb74f1d3011deb6",
      "fdcaa9bb1b5f4ed8bc6fbe79c76cf2b8",
      "58996d463f3e45ccbf695e84976959ec",
      "b4fd55b94dd042399ba7edebb57b4ef8",
      "46652336e57a46558498dedb3517ef75",
      "f28b357366594e0196e185bce2a3067d",
      "1afbc3078ee3440ba8414151f2032da7",
      "cb8d32b2fefb4fbea6df7113e19af1db",
      "74fde65b9bb943d08c10ccafe8866e68",
      "a253a4c785c24d6095bd6b394261a333",
      "4c832c522b754a73a584ea968486c479",
      "661f0d4e9a7e4760a34d9c7798548677"
     ]
    },
    "id": "sgCrjFYNA-8o",
    "outputId": "2a9e7864-fcec-42fc-c48e-9b4878ca87aa"
   },
   "outputs": [],
   "source": [
    "new_random_forest_model = boosting_model(X_train_new, X_test_new, y_train_new, y_test_new)"
   ]
  },
  {
   "cell_type": "code",
   "execution_count": null,
   "metadata": {
    "colab": {
     "base_uri": "https://localhost:8080/"
    },
    "id": "jp06uI1bA_ff",
    "outputId": "f56f5448-b067-4b73-ab5c-27cc28d2152d"
   },
   "outputs": [],
   "source": [
    "new_random_forest_model_train_r2, new_random_forest_model_test_r2 = scores(new_random_forest_model, X_train_new, X_test_new, y_train_new, y_test_new)"
   ]
  },
  {
   "cell_type": "code",
   "execution_count": null,
   "metadata": {
    "id": "xVNfx5Zli65v"
   },
   "outputs": [],
   "source": []
  }
 ],
 "metadata": {
  "accelerator": "GPU",
  "colab": {
   "provenance": []
  },
  "kernelspec": {
   "display_name": "Python 3",
   "name": "python3"
  }
 },
 "nbformat": 4,
 "nbformat_minor": 0
}
